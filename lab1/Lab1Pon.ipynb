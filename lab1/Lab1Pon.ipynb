{
 "cells": [
  {
   "cell_type": "code",
   "id": "initial_id",
   "metadata": {
    "collapsed": true,
    "ExecuteTime": {
     "end_time": "2025-10-29T05:07:05.661346Z",
     "start_time": "2025-10-29T05:07:05.659025Z"
    }
   },
   "source": [
    "import time\n",
    "\n",
    "from selenium.webdriver import Chrome\n",
    "from selenium.webdriver.common.by import By"
   ],
   "outputs": [],
   "execution_count": 48
  },
  {
   "metadata": {
    "ExecuteTime": {
     "end_time": "2025-10-29T05:07:10.035230Z",
     "start_time": "2025-10-29T05:07:07.199823Z"
    }
   },
   "cell_type": "code",
   "source": [
    "driver = Chrome()\n",
    "driver.get(\"https://books.toscrape.com/\")"
   ],
   "id": "5889a9c802049749",
   "outputs": [],
   "execution_count": 49
  },
  {
   "metadata": {
    "ExecuteTime": {
     "end_time": "2025-10-29T05:07:18.378322Z",
     "start_time": "2025-10-29T05:07:15.351358Z"
    }
   },
   "cell_type": "code",
   "source": [
    "last_height = driver.execute_script(\"return document.body.scrollHeight;\")\n",
    "\n",
    "while True:\n",
    "    driver.execute_script(\"window.scrollTo(0, document.body.scrollHeight);\")\n",
    "\n",
    "    time.sleep(3)\n",
    "\n",
    "    new_height = driver.execute_script(\"return document.body.scrollHeight;\")\n",
    "\n",
    "    if new_height == last_height:\n",
    "        break\n",
    "    last_height = new_height"
   ],
   "id": "20793dc0db50c552",
   "outputs": [],
   "execution_count": 50
  },
  {
   "metadata": {
    "ExecuteTime": {
     "end_time": "2025-10-29T05:07:20.806859Z",
     "start_time": "2025-10-29T05:07:20.372138Z"
    }
   },
   "cell_type": "code",
   "source": [
    "categoryLinksUl = driver.find_element(By.CLASS_NAME, \"nav-list\" )\n",
    "categoryListItems = categoryLinksUl.find_elements(By.TAG_NAME, \"li\")\n",
    "categoryLinks = [ listItem.find_element(By.TAG_NAME, \"a\") for listItem in categoryListItems ]\n",
    "categoryLinksUrl = [ categoryLink.get_property(\"href\") for categoryLink in categoryLinks ]\n",
    "categoryNames = [ categoryLink.text for categoryLink in categoryLinks ]"
   ],
   "id": "dc4c5e005917e9a6",
   "outputs": [],
   "execution_count": 51
  },
  {
   "metadata": {
    "ExecuteTime": {
     "end_time": "2025-10-29T05:07:46.961207Z",
     "start_time": "2025-10-29T05:07:24.325957Z"
    }
   },
   "cell_type": "code",
   "source": [
    "books_by_category = {}\n",
    "\n",
    "for i in range(len(categoryNames)):\n",
    "    if i > 4:\n",
    "        break\n",
    "\n",
    "    category_url = categoryLinksUrl[i+1]\n",
    "    driver.get(category_url)\n",
    "    books = []\n",
    "\n",
    "    while True:\n",
    "        booksDivs = driver.find_elements(By.CLASS_NAME, \"product_pod\")\n",
    "        booksH3 = [bookDiv.find_element(By.TAG_NAME, \"h3\") for bookDiv in booksDivs]\n",
    "        books += [bookH3.find_element(By.TAG_NAME, \"a\").text for bookH3 in booksH3]\n",
    "\n",
    "        try:\n",
    "            next_button = driver.find_element(By.CLASS_NAME, \"next\").find_element(By.TAG_NAME, \"a\")\n",
    "            next_page_url = next_button.get_property(\"href\")\n",
    "            time.sleep(3)\n",
    "            driver.get(next_page_url)\n",
    "        except:\n",
    "            break\n",
    "\n",
    "    books_by_category[categoryNames[i+1]] = books\n",
    "\n",
    "driver.quit()"
   ],
   "id": "2918621b213a5ff8",
   "outputs": [],
   "execution_count": 52
  },
  {
   "metadata": {
    "ExecuteTime": {
     "end_time": "2025-10-29T05:08:39.874593Z",
     "start_time": "2025-10-29T05:08:39.869494Z"
    }
   },
   "cell_type": "code",
   "source": [
    "import pandas as pd\n",
    "\n",
    "data = []\n",
    "for category, books in books_by_category.items():\n",
    "    for book in books:\n",
    "        data.append({\"Category\": category, \"Book Title\": book})\n",
    "\n",
    "df = pd.DataFrame(data)\n",
    "\n",
    "print(df)"
   ],
   "id": "ee487004eff3014e",
   "outputs": [
    {
     "name": "stdout",
     "output_type": "stream",
     "text": [
      "     Category                          Book Title\n",
      "0      Travel             It's Only the Himalayas\n",
      "1      Travel           Full Moon over Noah’s ...\n",
      "2      Travel      See America: A Celebration ...\n",
      "3      Travel  Vagabonding: An Uncommon Guide ...\n",
      "4      Travel                Under the Tuscan Sun\n",
      "..        ...                                 ...\n",
      "158  Classics                   The Little Prince\n",
      "159  Classics               Sense and Sensibility\n",
      "160  Classics                     Of Mice and Men\n",
      "161  Classics                                Emma\n",
      "162  Classics    Alice in Wonderland (Alice's ...\n",
      "\n",
      "[163 rows x 2 columns]\n"
     ]
    }
   ],
   "execution_count": 54
  },
  {
   "metadata": {
    "ExecuteTime": {
     "end_time": "2025-10-29T05:08:45.416882Z",
     "start_time": "2025-10-29T05:08:45.263269Z"
    }
   },
   "cell_type": "code",
   "source": [
    "import matplotlib.pyplot as plt\n",
    "\n",
    "category_counts = df['Category'].value_counts()\n",
    "\n",
    "plt.bar(category_counts.index, category_counts.values, color='skyblue')\n",
    "plt.title('Number of Books per Category')\n",
    "plt.xlabel('Category')\n",
    "plt.ylabel('Number of Books')\n",
    "plt.show()"
   ],
   "id": "dbc5cd82e4b4f205",
   "outputs": [
    {
     "data": {
      "text/plain": [
       "<Figure size 640x480 with 1 Axes>"
      ],
      "image/png": "[encoded data removed]"
     },
     "metadata": {},
     "output_type": "display_data"
    }
   ],
   "execution_count": 55
  }
 ],
 "metadata": {
  "kernelspec": {
   "display_name": "Python 3",
   "language": "python",
   "name": "python3"
  },
  "language_info": {
   "codemirror_mode": {
    "name": "ipython",
    "version": 2
   },
   "file_extension": ".py",
   "mimetype": "text/x-python",
   "name": "python",
   "nbconvert_exporter": "python",
   "pygments_lexer": "ipython2",
   "version": "2.7.6"
  }
 },
 "nbformat": 4,
 "nbformat_minor": 5
}
