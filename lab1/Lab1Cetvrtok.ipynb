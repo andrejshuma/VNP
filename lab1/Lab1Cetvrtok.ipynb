{
 "cells": [
  {
   "cell_type": "code",
   "id": "initial_id",
   "metadata": {
    "collapsed": true,
    "ExecuteTime": {
     "end_time": "2025-10-30T10:13:21.377296Z",
     "start_time": "2025-10-30T10:13:21.374528Z"
    }
   },
   "source": [
    "import time\n",
    "\n",
    "from selenium.webdriver import Chrome\n",
    "from selenium.webdriver.common.by import By"
   ],
   "outputs": [],
   "execution_count": 9
  },
  {
   "metadata": {
    "ExecuteTime": {
     "end_time": "2025-10-30T10:13:24.501287Z",
     "start_time": "2025-10-30T10:13:21.396903Z"
    }
   },
   "cell_type": "code",
   "source": [
    "driver = Chrome()\n",
    "driver.get(\"https://books.toscrape.com/\")"
   ],
   "id": "168557ebe5c4677f",
   "outputs": [],
   "execution_count": 10
  },
  {
   "metadata": {
    "ExecuteTime": {
     "end_time": "2025-10-30T10:13:27.532889Z",
     "start_time": "2025-10-30T10:13:24.510203Z"
    }
   },
   "cell_type": "code",
   "source": [
    "last_height = driver.execute_script(\"return document.body.scrollHeight;\")\n",
    "\n",
    "while True:\n",
    "    driver.execute_script(\"window.scrollTo(0, document.body.scrollHeight);\")\n",
    "\n",
    "    time.sleep(3)\n",
    "\n",
    "    new_height = driver.execute_script(\"return document.body.scrollHeight;\")\n",
    "\n",
    "    if new_height == last_height:\n",
    "        break\n",
    "    last_height = new_height"
   ],
   "id": "d12c6e0ba20b4f46",
   "outputs": [],
   "execution_count": 11
  },
  {
   "metadata": {
    "ExecuteTime": {
     "end_time": "2025-10-30T10:13:28.300309Z",
     "start_time": "2025-10-30T10:13:27.541013Z"
    }
   },
   "cell_type": "code",
   "source": [
    "categoryLinksUl = driver.find_element(By.CLASS_NAME, \"nav-list\" )\n",
    "categoryListItems = categoryLinksUl.find_elements(By.TAG_NAME, \"li\")\n",
    "categoryLinks = [ listItem.find_element(By.TAG_NAME, \"a\") for listItem in categoryListItems ]\n",
    "categoryLinksUrl = [ categoryLink.get_property(\"href\") for categoryLink in categoryLinks ]\n",
    "categoryNames = [ categoryLink.text for categoryLink in categoryLinks ]"
   ],
   "id": "7ceb23985a0062ab",
   "outputs": [],
   "execution_count": 12
  },
  {
   "metadata": {
    "ExecuteTime": {
     "end_time": "2025-10-30T10:13:36.964769Z",
     "start_time": "2025-10-30T10:13:28.305996Z"
    }
   },
   "cell_type": "code",
   "source": [
    "books_by_category = {}\n",
    "\n",
    "for i in range(len(categoryNames)):\n",
    "    if i == 5: #prvite 5 kategorii\n",
    "        break\n",
    "\n",
    "    category_url = categoryLinksUrl[i+1]\n",
    "    driver.get(category_url)\n",
    "    books = []\n",
    "\n",
    "    booksDivs = driver.find_elements(By.CLASS_NAME, \"product_pod\")[:4] # 4 knigi\n",
    "    booksH3 = [bookDiv.find_element(By.TAG_NAME, \"h3\") for bookDiv in booksDivs]\n",
    "    books += [bookH3.find_element(By.TAG_NAME, \"a\").text for bookH3 in booksH3]\n",
    "\n",
    "    books_by_category[categoryNames[i+1]] = books\n",
    "\n",
    "driver.quit()\n",
    "print(books_by_category)"
   ],
   "id": "bebe95e746e109f8",
   "outputs": [
    {
     "name": "stdout",
     "output_type": "stream",
     "text": [
      "{'Travel': [\"It's Only the Himalayas\", 'Full Moon over Noah’s ...', 'See America: A Celebration ...', 'Vagabonding: An Uncommon Guide ...'], 'Mystery': ['Sharp Objects', 'In a Dark, Dark ...', 'The Past Never Ends', 'A Murder in Time'], 'Historical Fiction': ['Tipping the Velvet', 'Forever and Forever: The ...', 'A Flight of Arrows ...', 'The House by the ...'], 'Sequential Art': [\"Scott Pilgrim's Precious Little ...\", 'Tsubasa: WoRLD CHRoNiCLE 2 ...', 'This One Summer', 'The Nameless City (The ...'], 'Classics': ['The Secret Garden', 'The Metamorphosis', \"The Pilgrim's Progress\", 'The Hound of the ...']}\n"
     ]
    }
   ],
   "execution_count": 13
  },
  {
   "metadata": {
    "ExecuteTime": {
     "end_time": "2025-10-30T10:13:36.977840Z",
     "start_time": "2025-10-30T10:13:36.974788Z"
    }
   },
   "cell_type": "code",
   "source": [
    "import pandas as pd\n",
    "\n",
    "data = []\n",
    "for category, books in books_by_category.items():\n",
    "    for book in books:\n",
    "        data.append({\"Category\": category, \"Book Title\": book})\n",
    "\n",
    "df = pd.DataFrame(data)\n",
    "\n",
    "print(df)"
   ],
   "id": "e98aca61fa45d607",
   "outputs": [
    {
     "name": "stdout",
     "output_type": "stream",
     "text": [
      "              Category                           Book Title\n",
      "0               Travel              It's Only the Himalayas\n",
      "1               Travel            Full Moon over Noah’s ...\n",
      "2               Travel       See America: A Celebration ...\n",
      "3               Travel   Vagabonding: An Uncommon Guide ...\n",
      "4              Mystery                        Sharp Objects\n",
      "5              Mystery                  In a Dark, Dark ...\n",
      "6              Mystery                  The Past Never Ends\n",
      "7              Mystery                     A Murder in Time\n",
      "8   Historical Fiction                   Tipping the Velvet\n",
      "9   Historical Fiction         Forever and Forever: The ...\n",
      "10  Historical Fiction               A Flight of Arrows ...\n",
      "11  Historical Fiction                 The House by the ...\n",
      "12      Sequential Art  Scott Pilgrim's Precious Little ...\n",
      "13      Sequential Art       Tsubasa: WoRLD CHRoNiCLE 2 ...\n",
      "14      Sequential Art                      This One Summer\n",
      "15      Sequential Art           The Nameless City (The ...\n",
      "16            Classics                    The Secret Garden\n",
      "17            Classics                    The Metamorphosis\n",
      "18            Classics               The Pilgrim's Progress\n",
      "19            Classics                 The Hound of the ...\n"
     ]
    }
   ],
   "execution_count": 14
  },
  {
   "metadata": {
    "ExecuteTime": {
     "end_time": "2025-10-30T10:13:37.066554Z",
     "start_time": "2025-10-30T10:13:37.000535Z"
    }
   },
   "cell_type": "code",
   "source": [
    "import matplotlib.pyplot as plt\n",
    "\n",
    "category_counts = df['Category'].value_counts()\n",
    "\n",
    "plt.bar(category_counts.index, category_counts.values, color='skyblue')\n",
    "plt.title('Number of Books per Category')\n",
    "plt.xlabel('Category')\n",
    "plt.ylabel('Number of Books')\n",
    "plt.show()"
   ],
   "id": "1e4f1e519f991d2",
   "outputs": [
    {
     "data": {
      "text/plain": [
       "<Figure size 640x480 with 1 Axes>"
      ],
      "image/png": "[encoded data removed]"
     },
     "metadata": {},
     "output_type": "display_data"
    }
   ],
   "execution_count": 15
  }
 ],
 "metadata": {
  "kernelspec": {
   "display_name": "Python 3",
   "language": "python",
   "name": "python3"
  },
  "language_info": {
   "codemirror_mode": {
    "name": "ipython",
    "version": 2
   },
   "file_extension": ".py",
   "mimetype": "text/x-python",
   "name": "python",
   "nbconvert_exporter": "python",
   "pygments_lexer": "ipython2",
   "version": "2.7.6"
  }
 },
 "nbformat": 4,
 "nbformat_minor": 5
}
