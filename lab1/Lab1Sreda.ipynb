{
 "cells": [
  {
   "metadata": {
    "ExecuteTime": {
     "end_time": "2025-10-30T09:45:44.190569Z",
     "start_time": "2025-10-30T09:45:44.186411Z"
    }
   },
   "cell_type": "code",
   "source": [
    "import time\n",
    "\n",
    "from selenium.webdriver import Chrome\n",
    "from selenium.webdriver.common.by import By"
   ],
   "id": "b0f4b47b9c495f23",
   "outputs": [],
   "execution_count": 13
  },
  {
   "metadata": {
    "ExecuteTime": {
     "end_time": "2025-10-30T09:45:48.603781Z",
     "start_time": "2025-10-30T09:45:45.552216Z"
    }
   },
   "cell_type": "code",
   "source": [
    "driver = Chrome()\n",
    "driver.get(\"https://quotes.toscrape.com/scroll\")"
   ],
   "id": "97246fa16516703f",
   "outputs": [],
   "execution_count": 14
  },
  {
   "metadata": {
    "ExecuteTime": {
     "end_time": "2025-10-30T09:45:54.055840Z",
     "start_time": "2025-10-30T09:45:51.028987Z"
    }
   },
   "cell_type": "code",
   "source": [
    "last_height = driver.execute_script(\"return document.body.scrollHeight;\")\n",
    "\n",
    "while True:\n",
    "    driver.execute_script(\"window.scrollTo(0, document.body.scrollHeight);\")\n",
    "\n",
    "    time.sleep(3)\n",
    "\n",
    "    new_height = driver.execute_script(\"return document.body.scrollHeight;\")\n",
    "\n",
    "    if new_height == last_height:\n",
    "        break\n",
    "    last_height = new_height"
   ],
   "id": "6f9a3abca8aceaa3",
   "outputs": [],
   "execution_count": 15
  },
  {
   "metadata": {
    "ExecuteTime": {
     "end_time": "2025-10-30T09:46:01.615634Z",
     "start_time": "2025-10-30T09:46:01.183689Z"
    }
   },
   "cell_type": "code",
   "source": [
    "quotes = driver.find_elements(By.CLASS_NAME, \"quote\")\n",
    "texts = [ quote.find_element(By.CLASS_NAME, \"text\").text for quote in quotes ]\n",
    "authors = [ quote.find_element(By.CLASS_NAME, \"author\").text for quote in quotes ]\n",
    "tagsWithoutText = [ quote.find_element(By.CLASS_NAME, \"tags\").find_elements(By.CLASS_NAME,\"tag\") for quote in quotes ]\n",
    "tags = [tag.text for sublist in tagsWithoutText for tag in sublist]\n",
    "print(tags)"
   ],
   "id": "7eb4bf93447ad237",
   "outputs": [
    {
     "name": "stdout",
     "output_type": "stream",
     "text": [
      "['change', 'deep-thoughts', 'thinking', 'world', 'abilities', 'choices', 'inspirational', 'life', 'live', 'miracle', 'miracles', 'aliteracy', 'books', 'classic', 'humor', 'be-yourself', 'inspirational', 'adulthood', 'success', 'value', 'life', 'love', 'edison', 'failure', 'inspirational', 'paraphrased', 'misattributed-eleanor-roosevelt', 'humor', 'obvious', 'simile']\n"
     ]
    }
   ],
   "execution_count": 16
  },
  {
   "metadata": {
    "ExecuteTime": {
     "end_time": "2025-10-30T09:46:24.643123Z",
     "start_time": "2025-10-30T09:46:24.640512Z"
    }
   },
   "cell_type": "code",
   "source": [
    "class Quote:\n",
    "    def __init__(self, text, author, tags):\n",
    "        self.text = text\n",
    "        self.author = author\n",
    "        self.tags = [tag.text for tag in tags]"
   ],
   "id": "4004a695044eba0b",
   "outputs": [],
   "execution_count": 18
  },
  {
   "metadata": {
    "ExecuteTime": {
     "end_time": "2025-10-30T09:46:26.050545Z",
     "start_time": "2025-10-30T09:46:25.905786Z"
    }
   },
   "cell_type": "code",
   "source": [
    "quotesObjects = []\n",
    "for text, author, tags in zip(texts, authors, tagsWithoutText):\n",
    "    quote = Quote(text, author, tags)\n",
    "    quotesObjects.append(quote)"
   ],
   "id": "e8d98a7fe5810ed6",
   "outputs": [],
   "execution_count": 19
  },
  {
   "metadata": {
    "ExecuteTime": {
     "end_time": "2025-10-30T09:47:56.574880Z",
     "start_time": "2025-10-30T09:47:56.408097Z"
    }
   },
   "cell_type": "code",
   "source": [
    "from collections import Counter\n",
    "tags = [tag.text for sublist in tagsWithoutText for tag in sublist]\n",
    "tag_counts = Counter(tags)\n",
    "\n",
    "most_popular_tags = tag_counts.most_common(10)\n",
    "\n",
    "for tag, count in most_popular_tags:\n",
    "    print(f\"{tag}: {count}\")"
   ],
   "id": "77479d968b0346ca",
   "outputs": [
    {
     "name": "stdout",
     "output_type": "stream",
     "text": [
      "inspirational: 3\n",
      "life: 2\n",
      "humor: 2\n",
      "change: 1\n",
      "deep-thoughts: 1\n",
      "thinking: 1\n",
      "world: 1\n",
      "abilities: 1\n",
      "choices: 1\n",
      "live: 1\n"
     ]
    }
   ],
   "execution_count": 25
  },
  {
   "metadata": {
    "ExecuteTime": {
     "end_time": "2025-10-30T09:59:15.135161Z",
     "start_time": "2025-10-30T09:59:15.132961Z"
    }
   },
   "cell_type": "code",
   "source": [
    "quoteDict = {}\n",
    "for tag, _ in most_popular_tags:\n",
    "    quotesWithTag = []\n",
    "    for quoteObj in quotesObjects:\n",
    "        if tag in quoteObj.tags:\n",
    "            quotesWithTag.append(quoteObj.text)\n",
    "\n",
    "    quoteDict[tag] = quotesWithTag\n"
   ],
   "id": "24e3f35e4c4fa6b3",
   "outputs": [],
   "execution_count": 31
  },
  {
   "metadata": {
    "ExecuteTime": {
     "end_time": "2025-10-30T09:59:23.214037Z",
     "start_time": "2025-10-30T09:59:23.206046Z"
    }
   },
   "cell_type": "code",
   "source": [
    "import pandas as pd\n",
    "\n",
    "data = []\n",
    "\n",
    "for tag, quotes in quoteDict.items():\n",
    "    for quote in quotes:\n",
    "        data.append({\"Tag\": tag, \"Book Title\": quote})\n",
    "\n",
    "df = pd.DataFrame(data)\n",
    "print(df)"
   ],
   "id": "6d69774cc1ca6561",
   "outputs": [
    {
     "name": "stdout",
     "output_type": "stream",
     "text": [
      "              Tag                                         Book Title\n",
      "0   inspirational  “There are only two ways to live your life. On...\n",
      "1   inspirational  “Imperfection is beauty, madness is genius and...\n",
      "2   inspirational  “I have not failed. I've just found 10,000 way...\n",
      "3            life  “There are only two ways to live your life. On...\n",
      "4            life  “It is better to be hated for what you are tha...\n",
      "5           humor  “The person, be it gentleman or lady, who has ...\n",
      "6           humor  “A day without sunshine is like, you know, nig...\n",
      "7          change  “The world as we have created it is a process ...\n",
      "8   deep-thoughts  “The world as we have created it is a process ...\n",
      "9        thinking  “The world as we have created it is a process ...\n",
      "10          world  “The world as we have created it is a process ...\n",
      "11      abilities  “It is our choices, Harry, that show what we t...\n",
      "12        choices  “It is our choices, Harry, that show what we t...\n",
      "13           live  “There are only two ways to live your life. On...\n"
     ]
    }
   ],
   "execution_count": 32
  },
  {
   "metadata": {
    "ExecuteTime": {
     "end_time": "2025-10-30T10:02:29.796689Z",
     "start_time": "2025-10-30T10:02:29.682346Z"
    }
   },
   "cell_type": "code",
   "source": [
    "import matplotlib.pyplot as plt\n",
    "\n",
    "tag_counts = df['Tag'].value_counts()\n",
    "plt.bar(tag_counts.index, tag_counts)\n",
    "plt.title('Number of Movies per Tag')\n",
    "plt.xlabel('Tags')\n",
    "plt.ylabel('Number of Movies')\n",
    "plt.show()"
   ],
   "id": "9b7e422770b4e96f",
   "outputs": [
    {
     "data": {
      "text/plain": [
       "<Figure size 640x480 with 1 Axes>"
      ],
      "image/png": "[encoded data removed]"
     },
     "metadata": {},
     "output_type": "display_data"
    }
   ],
   "execution_count": 35
  }
 ],
 "metadata": {
  "kernelspec": {
   "display_name": "Python 3",
   "language": "python",
   "name": "python3"
  },
  "language_info": {
   "codemirror_mode": {
    "name": "ipython",
    "version": 2
   },
   "file_extension": ".py",
   "mimetype": "text/x-python",
   "name": "python",
   "nbconvert_exporter": "python",
   "pygments_lexer": "ipython2",
   "version": "2.7.6"
  }
 },
 "nbformat": 4,
 "nbformat_minor": 5
}
